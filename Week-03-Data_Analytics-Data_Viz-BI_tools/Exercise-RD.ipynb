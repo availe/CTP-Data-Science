{
 "cells": [
  {
   "metadata": {
    "tags": [],
    "ExecuteTime": {
     "end_time": "2024-09-13T18:50:49.339768Z",
     "start_time": "2024-09-13T18:50:49.320705Z"
    }
   },
   "cell_type": "code",
   "source": [
    "# Import pandas\n",
    "import pandas as pd\n",
    "import matplotlib.pyplot as plt"
   ],
   "id": "e2f5514600f12124",
   "outputs": [
    {
     "ename": "ModuleNotFoundError",
     "evalue": "No module named 'matplotlib'",
     "output_type": "error",
     "traceback": [
      "\u001B[0;31m---------------------------------------------------------------------------\u001B[0m",
      "\u001B[0;31mModuleNotFoundError\u001B[0m                       Traceback (most recent call last)",
      "Cell \u001B[0;32mIn[2], line 3\u001B[0m\n\u001B[1;32m      1\u001B[0m \u001B[38;5;66;03m# Import pandas\u001B[39;00m\n\u001B[1;32m      2\u001B[0m \u001B[38;5;28;01mimport\u001B[39;00m \u001B[38;5;21;01mpandas\u001B[39;00m \u001B[38;5;28;01mas\u001B[39;00m \u001B[38;5;21;01mpd\u001B[39;00m\n\u001B[0;32m----> 3\u001B[0m \u001B[38;5;28;01mimport\u001B[39;00m \u001B[38;5;21;01mmatplotlib\u001B[39;00m\u001B[38;5;21;01m.\u001B[39;00m\u001B[38;5;21;01mpyplot\u001B[39;00m \u001B[38;5;28;01mas\u001B[39;00m \u001B[38;5;21;01mplt\u001B[39;00m\n",
      "\u001B[0;31mModuleNotFoundError\u001B[0m: No module named 'matplotlib'"
     ]
    }
   ],
   "execution_count": 2
  },
  {
   "cell_type": "code",
   "id": "cc7fa726-c2fd-4cfd-9970-7da5371638be",
   "metadata": {
    "tags": [],
    "ExecuteTime": {
     "end_time": "2024-09-13T18:50:49.344705Z",
     "start_time": "2024-09-13T18:43:27.222970Z"
    }
   },
   "source": [
    "# Load in the listings data\n",
    "df=pd.read_csv('data/listings.csv')"
   ],
   "outputs": [],
   "execution_count": 49
  },
  {
   "cell_type": "markdown",
   "id": "859bfd59-1ab7-4b81-9953-7b88ff7cc1bb",
   "metadata": {},
   "source": [
    "####  Exercise 1: Create a bar chart and dataframe of top 10 Neigborhoods that have the most expensive listsings on average. \n",
    "Our goal is to make a chart reflecting the top 10 most expensive Neighborhoods.\n",
    "This is a little dubious - we assign \"expensive\" by calculating the average cost of \n",
    "an AirBnB in each neighborhood.\n",
    "\n",
    "1. Make a dataframe that sorts the neighborhood field by decending price.  \n",
    "1. Use head to cut back top the top 10\n",
    "1. Use pandas.plot.barh to generate a histogram (see [this](https://pandas.pydata.org/pandas-docs/stable/reference/api/pandas.DataFrame.plot.barh.html) wiki for details on pandas.plot.barh)\n",
    "1. Display the data that you used to create the bar chart as a table with neighborhood and average price as the columns.  You want this to match the pivot that you create in youur dashboard"
   ]
  },
  {
   "cell_type": "code",
   "id": "52f83939-3f09-40ac-baab-794afa048f92",
   "metadata": {
    "tags": [],
    "ExecuteTime": {
     "end_time": "2024-09-13T18:50:49.344813Z",
     "start_time": "2024-09-13T18:43:27.306937Z"
    }
   },
   "source": [
    "# our goal is to make a chart reflecting the top 10 most expensive Neighborhoods\n",
    "# This is a little dubious - we assign \"expensive\" by calculating the average cost of \n",
    "# an AirBnB in each neighborhood, then we take the top ten and weight each slice \n",
    "# by the average value.\n",
    "#\n",
    "# make a dataframe that sorts the neighborhood field by decending price.  \n",
    "# Use head to cut back top the top 10. Then, use df.plot.barh to generate a histogram.\n",
    "\n",
    "df.groupby('neighbourhood')['price'].mean()\n",
    "df.sort_values(by=['price'], ascending=False)\n",
    "df.head()"
   ],
   "outputs": [
    {
     "ename": "TypeError",
     "evalue": "<pandas.plotting._core.PlotAccessor object at 0x13effb850> got multiple values for keyword argument 'kind'",
     "output_type": "error",
     "traceback": [
      "\u001B[0;31m---------------------------------------------------------------------------\u001B[0m",
      "\u001B[0;31mTypeError\u001B[0m                                 Traceback (most recent call last)",
      "Cell \u001B[0;32mIn[50], line 11\u001B[0m\n\u001B[1;32m      9\u001B[0m df\u001B[38;5;241m.\u001B[39msort_values(by\u001B[38;5;241m=\u001B[39m[\u001B[38;5;124m'\u001B[39m\u001B[38;5;124mprice\u001B[39m\u001B[38;5;124m'\u001B[39m], ascending\u001B[38;5;241m=\u001B[39m\u001B[38;5;28;01mFalse\u001B[39;00m)\n\u001B[1;32m     10\u001B[0m df\u001B[38;5;241m.\u001B[39mhead()\n\u001B[0;32m---> 11\u001B[0m \u001B[43mdf\u001B[49m\u001B[38;5;241;43m.\u001B[39;49m\u001B[43mplot\u001B[49m\u001B[38;5;241;43m.\u001B[39;49m\u001B[43mbarh\u001B[49m\u001B[43m(\u001B[49m\u001B[43mkind\u001B[49m\u001B[38;5;241;43m=\u001B[39;49m\u001B[38;5;124;43m'\u001B[39;49m\u001B[38;5;124;43mbar\u001B[39;49m\u001B[38;5;124;43m'\u001B[39;49m\u001B[43m)\u001B[49m\n",
      "File \u001B[0;32m~/miniforge3/envs/CTP-Data-Science/lib/python3.11/site-packages/pandas/plotting/_core.py:1280\u001B[0m, in \u001B[0;36mPlotAccessor.barh\u001B[0;34m(self, x, y, **kwargs)\u001B[0m\n\u001B[1;32m   1194\u001B[0m \u001B[38;5;129m@Appender\u001B[39m(\n\u001B[1;32m   1195\u001B[0m \u001B[38;5;250m    \u001B[39m\u001B[38;5;124;03m\"\"\"\u001B[39;00m\n\u001B[1;32m   1196\u001B[0m \u001B[38;5;124;03m    See Also\u001B[39;00m\n\u001B[0;32m   (...)\u001B[0m\n\u001B[1;32m   1269\u001B[0m     \u001B[38;5;28mself\u001B[39m, x: Hashable \u001B[38;5;241m|\u001B[39m \u001B[38;5;28;01mNone\u001B[39;00m \u001B[38;5;241m=\u001B[39m \u001B[38;5;28;01mNone\u001B[39;00m, y: Hashable \u001B[38;5;241m|\u001B[39m \u001B[38;5;28;01mNone\u001B[39;00m \u001B[38;5;241m=\u001B[39m \u001B[38;5;28;01mNone\u001B[39;00m, \u001B[38;5;241m*\u001B[39m\u001B[38;5;241m*\u001B[39mkwargs\n\u001B[1;32m   1270\u001B[0m ) \u001B[38;5;241m-\u001B[39m\u001B[38;5;241m>\u001B[39m PlotAccessor:\n\u001B[1;32m   1271\u001B[0m \u001B[38;5;250m    \u001B[39m\u001B[38;5;124;03m\"\"\"\u001B[39;00m\n\u001B[1;32m   1272\u001B[0m \u001B[38;5;124;03m    Make a horizontal bar plot.\u001B[39;00m\n\u001B[1;32m   1273\u001B[0m \n\u001B[0;32m   (...)\u001B[0m\n\u001B[1;32m   1278\u001B[0m \u001B[38;5;124;03m    other axis represents a measured value.\u001B[39;00m\n\u001B[1;32m   1279\u001B[0m \u001B[38;5;124;03m    \"\"\"\u001B[39;00m\n\u001B[0;32m-> 1280\u001B[0m     \u001B[38;5;28;01mreturn\u001B[39;00m \u001B[38;5;28mself\u001B[39m(kind\u001B[38;5;241m=\u001B[39m\u001B[38;5;124m\"\u001B[39m\u001B[38;5;124mbarh\u001B[39m\u001B[38;5;124m\"\u001B[39m, x\u001B[38;5;241m=\u001B[39mx, y\u001B[38;5;241m=\u001B[39my, \u001B[38;5;241m*\u001B[39m\u001B[38;5;241m*\u001B[39mkwargs)\n",
      "\u001B[0;31mTypeError\u001B[0m: <pandas.plotting._core.PlotAccessor object at 0x13effb850> got multiple values for keyword argument 'kind'"
     ]
    }
   ],
   "execution_count": 50
  },
  {
   "cell_type": "code",
   "id": "f96404b4-04de-4365-b11c-ceea9ef92468",
   "metadata": {
    "tags": [],
    "ExecuteTime": {
     "end_time": "2024-09-13T18:50:49.344955Z",
     "start_time": "2024-09-13T18:42:07.968769Z"
    }
   },
   "source": [
    "# Now, display the top 10 datframe you created as a table with columns\n",
    "# neighbourhood and price"
   ],
   "outputs": [],
   "execution_count": 40
  },
  {
   "cell_type": "markdown",
   "id": "0eecec35-4f94-4faf-9d98-f16211801ffd",
   "metadata": {},
   "source": [
    "####  Exercise 2: Create a bar chart and dataframe of top 10 Neigborhoods that have the LEAST expensive listsings on average. \n",
    "\n",
    "Do the same thing you just did, but get the 10 least expensive neighborhoods.  Sort them from lowest average price to highest.  Bew wure to provide a pivot table."
   ]
  },
  {
   "cell_type": "code",
   "id": "b1712997-2ab1-4dee-b506-f448b4c0829e",
   "metadata": {
    "tags": [],
    "ExecuteTime": {
     "end_time": "2024-09-13T18:50:49.351279Z",
     "start_time": "2024-09-13T18:42:08.025768Z"
    }
   },
   "source": [
    "# Here we make the same chart using the bottom 10 Neighborhoods\n",
    "# by average price.  We sort ascending in this one."
   ],
   "outputs": [],
   "execution_count": 41
  },
  {
   "cell_type": "code",
   "id": "92a1d4e4-4bae-411b-aee8-3d41b89c6272",
   "metadata": {
    "tags": [],
    "ExecuteTime": {
     "end_time": "2024-09-13T18:50:49.351661Z",
     "start_time": "2024-09-13T18:42:08.035727Z"
    }
   },
   "source": [
    "# we also would like to have the corresponding pivot table of the lowest 10"
   ],
   "outputs": [],
   "execution_count": 42
  },
  {
   "cell_type": "markdown",
   "id": "87ac7c97-b384-42d2-abdb-a26e98b12179",
   "metadata": {},
   "source": [
    "#  Now make all four widgets (the two charts and the two dataframes) in a Tableau dashboard!"
   ]
  },
  {
   "cell_type": "markdown",
   "id": "3b9ecbbc",
   "metadata": {},
   "source": []
  }
 ],
 "metadata": {
  "kernelspec": {
   "display_name": "Python 3 (ipykernel)",
   "language": "python",
   "name": "python3"
  },
  "language_info": {
   "codemirror_mode": {
    "name": "ipython",
    "version": 3
   },
   "file_extension": ".py",
   "mimetype": "text/x-python",
   "name": "python",
   "nbconvert_exporter": "python",
   "pygments_lexer": "ipython3",
   "version": "3.11.5"
  }
 },
 "nbformat": 4,
 "nbformat_minor": 5
}
