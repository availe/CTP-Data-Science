{
 "cells": [
  {
   "cell_type": "markdown",
   "metadata": {},
   "source": [
    "# First print your name in the cell below then save this file. (or something nice about your instructor)"
   ]
  },
  {
   "metadata": {},
   "cell_type": "markdown",
   "source": "# First print your name in the cell below then save this file. (or something nice about your instructor)"
  },
  {
   "cell_type": "code",
   "metadata": {
    "ExecuteTime": {
     "end_time": "2024-08-31T23:11:59.930940Z",
     "start_time": "2024-08-31T23:11:59.927420Z"
    }
   },
   "source": [
    "from pandas import value_counts\n",
    "\n",
    "print(\"Ioannou is the best TA\")\n"
   ],
   "outputs": [
    {
     "name": "stdout",
     "output_type": "stream",
     "text": [
      "Ioannou is the best TA\n"
     ]
    }
   ],
   "execution_count": 517
  },
  {
   "cell_type": "markdown",
   "metadata": {},
   "source": [
    "# Data wrangling with Pandas exercise\n",
    "* For this exercise we will be using the `listings.csv` data file."
   ]
  },
  {
   "cell_type": "code",
   "metadata": {
    "ExecuteTime": {
     "end_time": "2024-08-31T23:11:59.941415Z",
     "start_time": "2024-08-31T23:11:59.939767Z"
    }
   },
   "source": [
    "import pandas as pd\n",
    "import numpy as np"
   ],
   "outputs": [],
   "execution_count": 518
  },
  {
   "cell_type": "markdown",
   "metadata": {},
   "source": [
    "# Load in the data file using `pd.read_csv()`"
   ]
  },
  {
   "cell_type": "code",
   "metadata": {
    "ExecuteTime": {
     "end_time": "2024-08-31T23:12:00.015400Z",
     "start_time": "2024-08-31T23:11:59.951808Z"
    }
   },
   "source": [
    "from pathlib import Path\n",
    "file_path = Path.cwd() / 'data' / 'listings.csv'\n",
    "df = pd.read_csv(file_path)"
   ],
   "outputs": [],
   "execution_count": 519
  },
  {
   "cell_type": "markdown",
   "metadata": {},
   "source": [
    "## Exercise 2 - Filtering\n",
    "\n",
    "Return the following subsets of the dataframe.\n",
    "\n",
    "1. How many listings are there with a price less than 100? \n",
    "\n",
    "\n",
    "2. Find how many listings there are in just Brooklyn.\n",
    "\n",
    "\n",
    "3. Find how many listings there are in Brooklyn with a price less than 100.\n",
    "\n",
    "\n",
    "4. Using `.isin()` select anyone that has the host name of Michael, David, John, and Daniel.\n",
    "\n",
    "\n",
    "5. Create a new column called `adjusted_price` that has $100 added to every listing in Williamsburg.  The prices for all other listings should be the same as the were before. \n",
    "\n",
    "\n",
    "6. What % of the rooms are private, and what % of the rooms are shared.  \n",
    "    * Hint, use `.value_counts()`\n"
   ]
  },
  {
   "cell_type": "code",
   "metadata": {
    "ExecuteTime": {
     "end_time": "2024-08-31T23:12:00.028293Z",
     "start_time": "2024-08-31T23:12:00.023899Z"
    }
   },
   "source": [
    "# 1. How many listings are there with a price less than 100? \n",
    "print(len(df[df['price'] < 100]))\n",
    "\n",
    "# print(df[df['price'] < 100]['price'].value_counts())"
   ],
   "outputs": [
    {
     "name": "stdout",
     "output_type": "stream",
     "text": [
      "22778\n"
     ]
    }
   ],
   "execution_count": 520
  },
  {
   "cell_type": "code",
   "metadata": {
    "ExecuteTime": {
     "end_time": "2024-08-31T23:12:00.099443Z",
     "start_time": "2024-08-31T23:12:00.093013Z"
    }
   },
   "source": [
    "# 2. Make a new DataFrame of listings in Brooklyn named `df_bk` \n",
    "# and find how many listings in just Brooklyn.\n",
    "\n",
    "df_bk = df[df['neighbourhood_group'] == 'Brooklyn']\n",
    "print(len(df_bk))\n",
    "\n",
    "# print(df_bk['neighbourhood_group'].value_counts())"
   ],
   "outputs": [
    {
     "name": "stdout",
     "output_type": "stream",
     "text": [
      "18632\n"
     ]
    }
   ],
   "execution_count": 521
  },
  {
   "cell_type": "code",
   "metadata": {
    "ExecuteTime": {
     "end_time": "2024-08-31T23:12:00.109356Z",
     "start_time": "2024-08-31T23:12:00.107892Z"
    }
   },
   "source": [
    "# 3. Find how many listings there are in Brooklyn with a price less than 100.\n",
    "\n",
    "\n"
   ],
   "outputs": [],
   "execution_count": 522
  },
  {
   "cell_type": "code",
   "metadata": {
    "ExecuteTime": {
     "end_time": "2024-08-31T23:12:00.118793Z",
     "start_time": "2024-08-31T23:12:00.117599Z"
    }
   },
   "source": [
    "# 4. Using `.isin()` select anyone that has the host name of Michael, David, John, and Daniel.\n",
    "# How many total are there that have those names\n",
    "\n"
   ],
   "outputs": [],
   "execution_count": 523
  },
  {
   "cell_type": "code",
   "metadata": {
    "ExecuteTime": {
     "end_time": "2024-08-31T23:12:00.126989Z",
     "start_time": "2024-08-31T23:12:00.125697Z"
    }
   },
   "source": [
    "# 5. Create a new column called `adjusted_price` that has $100 added to every listing in Williamsburg.  \n",
    "# The prices for all other listings should be the same as the were before. \n",
    "\n"
   ],
   "outputs": [],
   "execution_count": 524
  },
  {
   "cell_type": "code",
   "metadata": {
    "ExecuteTime": {
     "end_time": "2024-08-31T23:12:00.135217Z",
     "start_time": "2024-08-31T23:12:00.134014Z"
    }
   },
   "source": [
    "# 6. What % of the rooms are private, and what % of the rooms are shared.  \n",
    "\n",
    "\n",
    "\n"
   ],
   "outputs": [],
   "execution_count": 525
  },
  {
   "cell_type": "markdown",
   "metadata": {},
   "source": [
    "# Exercise 3 - Grouping\n",
    "\n",
    "1. Using `groupby`, count how many listings are in each neighbourhood_group.\n",
    "\n",
    "\n",
    "2. Using `groupby`, find the mean price for each of the neighbourhood_groups. \n",
    "\n",
    "\n",
    "3. Using `groupby` and `.agg()`, find the min and max price for each of the neighbourhood_groups. \n",
    "\n",
    "\n",
    "4. Using `groupby`, find the median price for each room type in each neighbourhood_group.\n",
    "\n",
    "\n",
    "5. Using `groupby` and `.agg()`, find the count, min, max, mean, median, and std of the prices for each room type in each neighbourhood_group."
   ]
  },
  {
   "cell_type": "code",
   "metadata": {
    "ExecuteTime": {
     "end_time": "2024-08-31T23:12:00.143240Z",
     "start_time": "2024-08-31T23:12:00.142081Z"
    }
   },
   "source": [
    "# 1. Using `groupby`, count how many listings are in each neighbourhood_group.\n",
    "\n",
    "\n"
   ],
   "outputs": [],
   "execution_count": 526
  },
  {
   "cell_type": "code",
   "metadata": {
    "ExecuteTime": {
     "end_time": "2024-08-31T23:12:00.151503Z",
     "start_time": "2024-08-31T23:12:00.150322Z"
    }
   },
   "source": [
    "# 2. Using `groupby`, find the mean price for each of the neighbourhood_groups. \n",
    "\n",
    "\n"
   ],
   "outputs": [],
   "execution_count": 527
  },
  {
   "cell_type": "code",
   "metadata": {
    "ExecuteTime": {
     "end_time": "2024-08-31T23:12:00.159868Z",
     "start_time": "2024-08-31T23:12:00.158641Z"
    }
   },
   "source": [
    "# 2.5. Using `groupby`, find the mean price for each room_type. \n"
   ],
   "outputs": [],
   "execution_count": 528
  },
  {
   "cell_type": "code",
   "metadata": {
    "ExecuteTime": {
     "end_time": "2024-08-31T23:12:00.168071Z",
     "start_time": "2024-08-31T23:12:00.166752Z"
    }
   },
   "source": [
    "# 3. Using `groupby` and `.agg()`, find the min and max price for each of the neighbourhood_groups. \n",
    "\n",
    "\n"
   ],
   "outputs": [],
   "execution_count": 529
  },
  {
   "cell_type": "code",
   "metadata": {
    "ExecuteTime": {
     "end_time": "2024-08-31T23:12:00.176414Z",
     "start_time": "2024-08-31T23:12:00.174871Z"
    }
   },
   "source": [
    "# 4. Using `groupby`, find the mean price for each room_type in each neighbourhood_group.\n",
    "\n"
   ],
   "outputs": [],
   "execution_count": 530
  },
  {
   "cell_type": "code",
   "metadata": {
    "ExecuteTime": {
     "end_time": "2024-08-31T23:12:00.184892Z",
     "start_time": "2024-08-31T23:12:00.183393Z"
    }
   },
   "source": [
    "# 5. Using `groupby` and `.agg()`, find the count, min, max, mean, median, and std of the prices \n",
    "# for each room type in each neighbourhood_group.\n",
    "\n",
    "\n",
    "\n"
   ],
   "outputs": [],
   "execution_count": 531
  },
  {
   "cell_type": "markdown",
   "metadata": {},
   "source": [
    "# Load, Merge, and Export files.\n",
    "1. Load the `prices.csv` and the `n_listings.csv`\n",
    "    * Having an error..? Inspect the actual csv file if you're having trouble\n",
    "\n",
    "2. Do join that keeps all the records for each table.\n",
    "    * Neighbourhood groups should include ['Bronx', 'Brooklyn', 'Manhattan', 'Queens', 'Staten Island',\n",
    "       'LongIsland']\n",
    "\n",
    "       \n",
    "3. Save your joined csv as `joined.csv` into the data folder. \n",
    "\n",
    "\n",
    "4. Load your saved table and see if it looks the same or different that the DataFrame you used to create it. "
   ]
  },
  {
   "cell_type": "code",
   "metadata": {
    "ExecuteTime": {
     "end_time": "2024-08-31T23:12:00.194258Z",
     "start_time": "2024-08-31T23:12:00.192267Z"
    }
   },
   "source": [
    "# 1. Load the `prices.csv` and the `n_listings.csv`"
   ],
   "outputs": [],
   "execution_count": 532
  },
  {
   "cell_type": "code",
   "metadata": {
    "ExecuteTime": {
     "end_time": "2024-08-31T23:12:00.203802Z",
     "start_time": "2024-08-31T23:12:00.202534Z"
    }
   },
   "source": [
    "# 2. Do join that keeps all the records for each table.\n",
    "\n",
    "\n"
   ],
   "outputs": [],
   "execution_count": 533
  },
  {
   "cell_type": "code",
   "metadata": {
    "ExecuteTime": {
     "end_time": "2024-08-31T23:12:00.212362Z",
     "start_time": "2024-08-31T23:12:00.210675Z"
    }
   },
   "source": [
    "# 3. Save your joined csv as `joined.csv` into the data folder. "
   ],
   "outputs": [],
   "execution_count": 534
  },
  {
   "cell_type": "code",
   "metadata": {
    "ExecuteTime": {
     "end_time": "2024-08-31T23:12:00.220624Z",
     "start_time": "2024-08-31T23:12:00.219311Z"
    }
   },
   "source": [
    "# 4. Load your newly saved file, see if it looks the same.  If not, try saving with argument `index=False`"
   ],
   "outputs": [],
   "execution_count": 535
  },
  {
   "cell_type": "markdown",
   "metadata": {},
   "source": [
    "# Extra Credit\n",
    "Every question below this cell is extra credit and optional."
   ]
  },
  {
   "cell_type": "markdown",
   "metadata": {},
   "source": [
    "### 1. (Easy) Explore this new PandasAI Package and tell me what its all about because I've never used it. \n",
    "* https://www.youtube.com/watch?v=5w6eZaoDVVk&ab_channel=CodingIsFun  \n",
    "* See if you can use it on the listings.csv to find out some cool info. or answer some of the questions above. "
   ]
  },
  {
   "cell_type": "markdown",
   "metadata": {},
   "source": [
    "### 2. (Very Easy) Find other cool Panda packages / add ons and show us what they can do well. And how you installed them. "
   ]
  },
  {
   "cell_type": "markdown",
   "metadata": {},
   "source": [
    "### 3. (Medium) Use the grammys.csv data for the next section of questions.\n",
    "\n",
    "1. Who was won Album of the Year in 2016?\n",
    "\n",
    "\n",
    "2. Who won Best Rap Album in 2009?\n",
    "\n",
    "\n",
    "3. How many awards was Kendrick Lamar nomiated for, and how many did he win...?"
   ]
  },
  {
   "cell_type": "markdown",
   "metadata": {},
   "source": [
    "### (Hard) Load the Game Logs for 2022 and add the column names using a dictionary.  \n",
    "* [Link to the data page](https://www.retrosheet.org/gamelogs/)\n",
    "* [Link to the column names](https://procatinator.com/)\n",
    "* haha, gotta find them yourself!"
   ]
  },
  {
   "cell_type": "markdown",
   "metadata": {},
   "source": [
    "### (Extra Hard) Download the files for the past 5 years into a new folder and add them all into one data frame using pandas, then save that new file.\n",
    "* Try to not hard code in the file names. We want to do this programmatically because what if we want to add new/more file names in the future."
   ]
  },
  {
   "cell_type": "code",
   "metadata": {
    "ExecuteTime": {
     "end_time": "2024-08-31T23:12:00.229322Z",
     "start_time": "2024-08-31T23:12:00.228123Z"
    }
   },
   "source": [],
   "outputs": [],
   "execution_count": null
  }
 ],
 "metadata": {
  "kernelspec": {
   "display_name": "Python 3 (ipykernel)",
   "language": "python",
   "name": "python3"
  },
  "language_info": {
   "codemirror_mode": {
    "name": "ipython",
    "version": 3
   },
   "file_extension": ".py",
   "mimetype": "text/x-python",
   "name": "python",
   "nbconvert_exporter": "python",
   "pygments_lexer": "ipython3",
   "version": "3.11.4"
  }
 },
 "nbformat": 4,
 "nbformat_minor": 4
}
