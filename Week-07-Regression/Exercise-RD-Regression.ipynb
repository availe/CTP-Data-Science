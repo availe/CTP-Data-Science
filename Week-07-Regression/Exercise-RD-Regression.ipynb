{
 "cells": [
  {
   "metadata": {},
   "cell_type": "markdown",
   "source": [
    "### Regression Exercise \n",
    "# Moneyball The NBA\n",
    "---"
   ]
  },
  {
   "cell_type": "markdown",
   "metadata": {},
   "source": [
    "# Rough Guide a v1 model.\n",
    "0. Make a model to predict PTS \n",
    "0. For v1, dont use `2P, 3P, FG, or FT`.  Instead use `2PA, 3PA, FTA`.  \n",
    "0. Include any other cols use see fit.  \n"
   ]
  },
  {
   "metadata": {
    "ExecuteTime": {
     "end_time": "2024-10-26T00:41:11.709257Z",
     "start_time": "2024-10-26T00:41:11.706633Z"
    }
   },
   "cell_type": "code",
   "source": [
    "import pandas as pd\n",
    "import numpy as np\n",
    "import seaborn as sns\n",
    "import matplotlib.pyplot as plt\n",
    "\n",
    "from sklearn.linear_model import LinearRegression\n",
    "from sklearn.ensemble import RandomForestRegressor\n",
    "from sklearn import metrics\n",
    "from sklearn.model_selection import train_test_split\n",
    "\n",
    "import statsmodels.api as sm\n",
    "from statsmodels.tools.eval_measures import rmse\n",
    "from statsmodels.stats.outliers_influence import variance_inflation_factor\n",
    "from statsmodels.api import qqplot\n",
    "\n",
    "import CTPLIB as ctp"
   ],
   "outputs": [],
   "execution_count": 44
  },
  {
   "metadata": {
    "ExecuteTime": {
     "end_time": "2024-10-26T00:41:11.718939Z",
     "start_time": "2024-10-26T00:41:11.713685Z"
    }
   },
   "cell_type": "code",
   "source": [
    "df = pd.read_csv('data/NBA_train.csv')\n",
    "df.dropna(inplace=True)"
   ],
   "outputs": [],
   "execution_count": 45
  },
  {
   "cell_type": "code",
   "metadata": {
    "ExecuteTime": {
     "end_time": "2024-10-26T00:41:12.935503Z",
     "start_time": "2024-10-26T00:41:11.724384Z"
    }
   },
   "source": "sns.regplot(data=df, x='W', y='Playoffs', logistic=True)",
   "outputs": [
    {
     "data": {
      "text/plain": [
       "<Axes: xlabel='W', ylabel='Playoffs'>"
      ]
     },
     "execution_count": 46,
     "metadata": {},
     "output_type": "execute_result"
    },
    {
     "data": {
      "text/plain": [
       "<Figure size 640x480 with 1 Axes>"
      ],
      "image/png": "[encoded data removed]"
     },
     "metadata": {},
     "output_type": "display_data"
    }
   ],
   "execution_count": 46
  },
  {
   "metadata": {},
   "cell_type": "markdown",
   "source": [
    "Let Y represent the event of a team making the playoffs. The expression P(Y | W) represents the likelihood a team making the playoffs given W wins.\n",
    "\n",
    "The bottom and top horizontal lines represent:\n",
    "- Teams that did not make the playoffs P(Y | W) = 0\n",
    "- Teams that did make the playoffs P(Y | W) = 1\n",
    "\n",
    "The logistic regression curve shows that the playoff probability increases exponentially at P(Y | W >= 30) and reaches near certainty at P(Y | W >= 50)."
   ]
  },
  {
   "metadata": {
    "ExecuteTime": {
     "end_time": "2024-10-26T00:47:47.991818Z",
     "start_time": "2024-10-26T00:47:47.968142Z"
    }
   },
   "cell_type": "code",
   "source": [
    "y = df['PTS']\n",
    "columns_to_drop = ['PTS', '2P', '3P', 'FG', 'FT']\n",
    "X = df.drop(columns=columns_to_drop)\n",
    "\n",
    "X.describe()"
   ],
   "outputs": [
    {
     "data": {
      "text/plain": [
       "         SeasonEnd    Playoffs           W        oppPTS          FGA  \\\n",
       "count   835.000000  835.000000  835.000000    835.000000   835.000000   \n",
       "mean   1996.319760    0.574850   41.000000   8370.239521  6873.318563   \n",
       "std       9.243808    0.494662   12.740822    587.543959   401.027166   \n",
       "min    1980.000000    0.000000   11.000000   6909.000000  5972.000000   \n",
       "25%    1989.000000    0.000000   31.000000   7934.000000  6563.500000   \n",
       "50%    1996.000000    1.000000   42.000000   8365.000000  6831.000000   \n",
       "75%    2005.000000    1.000000   50.500000   8768.500000  7157.000000   \n",
       "max    2011.000000    1.000000   72.000000  10723.000000  8868.000000   \n",
       "\n",
       "               2PA          3PA          FTA          ORB          DRB  \\\n",
       "count   835.000000   835.000000   835.000000   835.000000   835.000000   \n",
       "mean   5956.444311   916.874251  2189.953293  1061.584431  2427.354491   \n",
       "std     830.596327   523.982964   244.491086   150.224519   130.671523   \n",
       "min    4153.000000    75.000000  1475.000000   639.000000  2044.000000   \n",
       "25%    5269.000000   413.000000  2008.000000   953.500000  2346.500000   \n",
       "50%    5706.000000   942.000000  2176.000000  1055.000000  2433.000000   \n",
       "75%    6753.500000  1347.500000  2352.000000  1167.000000  2516.500000   \n",
       "max    7873.000000  2284.000000  3051.000000  1520.000000  2753.000000   \n",
       "\n",
       "               AST          STL         BLK          TOV  \n",
       "count   835.000000   835.000000  835.000000   835.000000  \n",
       "mean   1912.112575   668.364072  419.805988  1302.837126  \n",
       "std     221.610925    93.393044   82.274913   153.973470  \n",
       "min    1423.000000   455.000000  204.000000   931.000000  \n",
       "25%    1735.000000   599.000000  359.000000  1192.000000  \n",
       "50%    1899.000000   658.000000  410.000000  1289.000000  \n",
       "75%    2077.500000   729.000000  469.500000  1395.500000  \n",
       "max    2575.000000  1053.000000  716.000000  1873.000000  "
      ],
      "text/html": [
       "<div>\n",
       "<style scoped>\n",
       "    .dataframe tbody tr th:only-of-type {\n",
       "        vertical-align: middle;\n",
       "    }\n",
       "\n",
       "    .dataframe tbody tr th {\n",
       "        vertical-align: top;\n",
       "    }\n",
       "\n",
       "    .dataframe thead th {\n",
       "        text-align: right;\n",
       "    }\n",
       "</style>\n",
       "<table border=\"1\" class=\"dataframe\">\n",
       "  <thead>\n",
       "    <tr style=\"text-align: right;\">\n",
       "      <th></th>\n",
       "      <th>SeasonEnd</th>\n",
       "      <th>Playoffs</th>\n",
       "      <th>W</th>\n",
       "      <th>oppPTS</th>\n",
       "      <th>FGA</th>\n",
       "      <th>2PA</th>\n",
       "      <th>3PA</th>\n",
       "      <th>FTA</th>\n",
       "      <th>ORB</th>\n",
       "      <th>DRB</th>\n",
       "      <th>AST</th>\n",
       "      <th>STL</th>\n",
       "      <th>BLK</th>\n",
       "      <th>TOV</th>\n",
       "    </tr>\n",
       "  </thead>\n",
       "  <tbody>\n",
       "    <tr>\n",
       "      <th>count</th>\n",
       "      <td>835.000000</td>\n",
       "      <td>835.000000</td>\n",
       "      <td>835.000000</td>\n",
       "      <td>835.000000</td>\n",
       "      <td>835.000000</td>\n",
       "      <td>835.000000</td>\n",
       "      <td>835.000000</td>\n",
       "      <td>835.000000</td>\n",
       "      <td>835.000000</td>\n",
       "      <td>835.000000</td>\n",
       "      <td>835.000000</td>\n",
       "      <td>835.000000</td>\n",
       "      <td>835.000000</td>\n",
       "      <td>835.000000</td>\n",
       "    </tr>\n",
       "    <tr>\n",
       "      <th>mean</th>\n",
       "      <td>1996.319760</td>\n",
       "      <td>0.574850</td>\n",
       "      <td>41.000000</td>\n",
       "      <td>8370.239521</td>\n",
       "      <td>6873.318563</td>\n",
       "      <td>5956.444311</td>\n",
       "      <td>916.874251</td>\n",
       "      <td>2189.953293</td>\n",
       "      <td>1061.584431</td>\n",
       "      <td>2427.354491</td>\n",
       "      <td>1912.112575</td>\n",
       "      <td>668.364072</td>\n",
       "      <td>419.805988</td>\n",
       "      <td>1302.837126</td>\n",
       "    </tr>\n",
       "    <tr>\n",
       "      <th>std</th>\n",
       "      <td>9.243808</td>\n",
       "      <td>0.494662</td>\n",
       "      <td>12.740822</td>\n",
       "      <td>587.543959</td>\n",
       "      <td>401.027166</td>\n",
       "      <td>830.596327</td>\n",
       "      <td>523.982964</td>\n",
       "      <td>244.491086</td>\n",
       "      <td>150.224519</td>\n",
       "      <td>130.671523</td>\n",
       "      <td>221.610925</td>\n",
       "      <td>93.393044</td>\n",
       "      <td>82.274913</td>\n",
       "      <td>153.973470</td>\n",
       "    </tr>\n",
       "    <tr>\n",
       "      <th>min</th>\n",
       "      <td>1980.000000</td>\n",
       "      <td>0.000000</td>\n",
       "      <td>11.000000</td>\n",
       "      <td>6909.000000</td>\n",
       "      <td>5972.000000</td>\n",
       "      <td>4153.000000</td>\n",
       "      <td>75.000000</td>\n",
       "      <td>1475.000000</td>\n",
       "      <td>639.000000</td>\n",
       "      <td>2044.000000</td>\n",
       "      <td>1423.000000</td>\n",
       "      <td>455.000000</td>\n",
       "      <td>204.000000</td>\n",
       "      <td>931.000000</td>\n",
       "    </tr>\n",
       "    <tr>\n",
       "      <th>25%</th>\n",
       "      <td>1989.000000</td>\n",
       "      <td>0.000000</td>\n",
       "      <td>31.000000</td>\n",
       "      <td>7934.000000</td>\n",
       "      <td>6563.500000</td>\n",
       "      <td>5269.000000</td>\n",
       "      <td>413.000000</td>\n",
       "      <td>2008.000000</td>\n",
       "      <td>953.500000</td>\n",
       "      <td>2346.500000</td>\n",
       "      <td>1735.000000</td>\n",
       "      <td>599.000000</td>\n",
       "      <td>359.000000</td>\n",
       "      <td>1192.000000</td>\n",
       "    </tr>\n",
       "    <tr>\n",
       "      <th>50%</th>\n",
       "      <td>1996.000000</td>\n",
       "      <td>1.000000</td>\n",
       "      <td>42.000000</td>\n",
       "      <td>8365.000000</td>\n",
       "      <td>6831.000000</td>\n",
       "      <td>5706.000000</td>\n",
       "      <td>942.000000</td>\n",
       "      <td>2176.000000</td>\n",
       "      <td>1055.000000</td>\n",
       "      <td>2433.000000</td>\n",
       "      <td>1899.000000</td>\n",
       "      <td>658.000000</td>\n",
       "      <td>410.000000</td>\n",
       "      <td>1289.000000</td>\n",
       "    </tr>\n",
       "    <tr>\n",
       "      <th>75%</th>\n",
       "      <td>2005.000000</td>\n",
       "      <td>1.000000</td>\n",
       "      <td>50.500000</td>\n",
       "      <td>8768.500000</td>\n",
       "      <td>7157.000000</td>\n",
       "      <td>6753.500000</td>\n",
       "      <td>1347.500000</td>\n",
       "      <td>2352.000000</td>\n",
       "      <td>1167.000000</td>\n",
       "      <td>2516.500000</td>\n",
       "      <td>2077.500000</td>\n",
       "      <td>729.000000</td>\n",
       "      <td>469.500000</td>\n",
       "      <td>1395.500000</td>\n",
       "    </tr>\n",
       "    <tr>\n",
       "      <th>max</th>\n",
       "      <td>2011.000000</td>\n",
       "      <td>1.000000</td>\n",
       "      <td>72.000000</td>\n",
       "      <td>10723.000000</td>\n",
       "      <td>8868.000000</td>\n",
       "      <td>7873.000000</td>\n",
       "      <td>2284.000000</td>\n",
       "      <td>3051.000000</td>\n",
       "      <td>1520.000000</td>\n",
       "      <td>2753.000000</td>\n",
       "      <td>2575.000000</td>\n",
       "      <td>1053.000000</td>\n",
       "      <td>716.000000</td>\n",
       "      <td>1873.000000</td>\n",
       "    </tr>\n",
       "  </tbody>\n",
       "</table>\n",
       "</div>"
      ]
     },
     "execution_count": 53,
     "metadata": {},
     "output_type": "execute_result"
    }
   ],
   "execution_count": 53
  }
 ],
 "metadata": {
  "kernelspec": {
   "display_name": "Python 3 (ipykernel)",
   "language": "python",
   "name": "python3"
  },
  "language_info": {
   "codemirror_mode": {
    "name": "ipython",
    "version": 3
   },
   "file_extension": ".py",
   "mimetype": "text/x-python",
   "name": "python",
   "nbconvert_exporter": "python",
   "pygments_lexer": "ipython3",
   "version": "3.11.4"
  }
 },
 "nbformat": 4,
 "nbformat_minor": 2
}
